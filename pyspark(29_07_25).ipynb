{
  "nbformat": 4,
  "nbformat_minor": 0,
  "metadata": {
    "colab": {
      "provenance": [],
      "authorship_tag": "ABX9TyOzhwUU5D0NowEQ6ExzU9mJ",
      "include_colab_link": true
    },
    "kernelspec": {
      "name": "python3",
      "display_name": "Python 3"
    },
    "language_info": {
      "name": "python"
    }
  },
  "cells": [
    {
      "cell_type": "markdown",
      "metadata": {
        "id": "view-in-github",
        "colab_type": "text"
      },
      "source": [
        "<a href=\"https://colab.research.google.com/github/Mukul1Panwar/Pyspark/blob/main/pyspark(29_07_25).ipynb\" target=\"_parent\"><img src=\"https://colab.research.google.com/assets/colab-badge.svg\" alt=\"Open In Colab\"/></a>"
      ]
    },
    {
      "cell_type": "code",
      "execution_count": null,
      "metadata": {
        "colab": {
          "base_uri": "https://localhost:8080/"
        },
        "id": "9TUlpQV5xcHa",
        "outputId": "2e0aa04d-a0d6-4ba1-a83b-5f9ec1f31c47"
      },
      "outputs": [
        {
          "output_type": "stream",
          "name": "stdout",
          "text": [
            "Requirement already satisfied: pyspark in /usr/local/lib/python3.11/dist-packages (3.5.1)\n",
            "Requirement already satisfied: py4j==0.10.9.7 in /usr/local/lib/python3.11/dist-packages (from pyspark) (0.10.9.7)\n"
          ]
        }
      ],
      "source": [
        "pip install pyspark"
      ]
    },
    {
      "cell_type": "code",
      "source": [
        "import pyspark"
      ],
      "metadata": {
        "id": "uwhEYuIAxzZ-"
      },
      "execution_count": null,
      "outputs": []
    },
    {
      "cell_type": "code",
      "source": [
        "from pyspark.sql import SparkSession"
      ],
      "metadata": {
        "id": "aQhjGVrzx2At"
      },
      "execution_count": null,
      "outputs": []
    },
    {
      "cell_type": "code",
      "source": [
        "spark = SparkSession.builder.appName(\"29/07/25\").getOrCreate()"
      ],
      "metadata": {
        "id": "TdEeusuCyByA"
      },
      "execution_count": null,
      "outputs": []
    },
    {
      "cell_type": "code",
      "source": [
        "df = spark.read.csv(\"/content/BigMart Sales.csv\",header=True)"
      ],
      "metadata": {
        "id": "lY9pxascyPAS"
      },
      "execution_count": null,
      "outputs": []
    },
    {
      "cell_type": "code",
      "source": [
        "type(df)"
      ],
      "metadata": {
        "colab": {
          "base_uri": "https://localhost:8080/",
          "height": 186
        },
        "id": "nvL1oX-0yZ--",
        "outputId": "3378350f-fcde-41f6-a190-20bb78c3ed6a"
      },
      "execution_count": null,
      "outputs": [
        {
          "output_type": "execute_result",
          "data": {
            "text/plain": [
              "pyspark.sql.dataframe.DataFrame"
            ],
            "text/html": [
              "<div style=\"max-width:800px; border: 1px solid var(--colab-border-color);\"><style>\n",
              "      pre.function-repr-contents {\n",
              "        overflow-x: auto;\n",
              "        padding: 8px 12px;\n",
              "        max-height: 500px;\n",
              "      }\n",
              "\n",
              "      pre.function-repr-contents.function-repr-contents-collapsed {\n",
              "        cursor: pointer;\n",
              "        max-height: 100px;\n",
              "      }\n",
              "    </style>\n",
              "    <pre style=\"white-space: initial; background:\n",
              "         var(--colab-secondary-surface-color); padding: 8px 12px;\n",
              "         border-bottom: 1px solid var(--colab-border-color);\"><b>pyspark.sql.dataframe.DataFrame</b><br/>def __init__(jdf: JavaObject, sql_ctx: Union[&#x27;SQLContext&#x27;, &#x27;SparkSession&#x27;])</pre><pre class=\"function-repr-contents function-repr-contents-collapsed\" style=\"\"><a class=\"filepath\" style=\"display:none\" href=\"#\">/usr/local/lib/python3.11/dist-packages/pyspark/sql/dataframe.py</a>A distributed collection of data grouped into named columns.\n",
              "\n",
              ".. versionadded:: 1.3.0\n",
              "\n",
              ".. versionchanged:: 3.4.0\n",
              "    Supports Spark Connect.\n",
              "\n",
              "Examples\n",
              "--------\n",
              "A :class:`DataFrame` is equivalent to a relational table in Spark SQL,\n",
              "and can be created using various functions in :class:`SparkSession`:\n",
              "\n",
              "&gt;&gt;&gt; people = spark.createDataFrame([\n",
              "...     {&quot;deptId&quot;: 1, &quot;age&quot;: 40, &quot;name&quot;: &quot;Hyukjin Kwon&quot;, &quot;gender&quot;: &quot;M&quot;, &quot;salary&quot;: 50},\n",
              "...     {&quot;deptId&quot;: 1, &quot;age&quot;: 50, &quot;name&quot;: &quot;Takuya Ueshin&quot;, &quot;gender&quot;: &quot;M&quot;, &quot;salary&quot;: 100},\n",
              "...     {&quot;deptId&quot;: 2, &quot;age&quot;: 60, &quot;name&quot;: &quot;Xinrong Meng&quot;, &quot;gender&quot;: &quot;F&quot;, &quot;salary&quot;: 150},\n",
              "...     {&quot;deptId&quot;: 3, &quot;age&quot;: 20, &quot;name&quot;: &quot;Haejoon Lee&quot;, &quot;gender&quot;: &quot;M&quot;, &quot;salary&quot;: 200}\n",
              "... ])\n",
              "\n",
              "Once created, it can be manipulated using the various domain-specific-language\n",
              "(DSL) functions defined in: :class:`DataFrame`, :class:`Column`.\n",
              "\n",
              "To select a column from the :class:`DataFrame`, use the apply method:\n",
              "\n",
              "&gt;&gt;&gt; age_col = people.age\n",
              "\n",
              "A more concrete example:\n",
              "\n",
              "&gt;&gt;&gt; # To create DataFrame using SparkSession\n",
              "... department = spark.createDataFrame([\n",
              "...     {&quot;id&quot;: 1, &quot;name&quot;: &quot;PySpark&quot;},\n",
              "...     {&quot;id&quot;: 2, &quot;name&quot;: &quot;ML&quot;},\n",
              "...     {&quot;id&quot;: 3, &quot;name&quot;: &quot;Spark SQL&quot;}\n",
              "... ])\n",
              "\n",
              "&gt;&gt;&gt; people.filter(people.age &gt; 30).join(\n",
              "...     department, people.deptId == department.id).groupBy(\n",
              "...     department.name, &quot;gender&quot;).agg({&quot;salary&quot;: &quot;avg&quot;, &quot;age&quot;: &quot;max&quot;}).show()\n",
              "+-------+------+-----------+--------+\n",
              "|   name|gender|avg(salary)|max(age)|\n",
              "+-------+------+-----------+--------+\n",
              "|     ML|     F|      150.0|      60|\n",
              "|PySpark|     M|       75.0|      50|\n",
              "+-------+------+-----------+--------+\n",
              "\n",
              "Notes\n",
              "-----\n",
              "A DataFrame should only be created as described above. It should not be directly\n",
              "created via using the constructor.</pre>\n",
              "      <script>\n",
              "      if (google.colab.kernel.accessAllowed && google.colab.files && google.colab.files.view) {\n",
              "        for (const element of document.querySelectorAll('.filepath')) {\n",
              "          element.style.display = 'block'\n",
              "          element.onclick = (event) => {\n",
              "            event.preventDefault();\n",
              "            event.stopPropagation();\n",
              "            google.colab.files.view(element.textContent, 80);\n",
              "          };\n",
              "        }\n",
              "      }\n",
              "      for (const element of document.querySelectorAll('.function-repr-contents')) {\n",
              "        element.onclick = (event) => {\n",
              "          event.preventDefault();\n",
              "          event.stopPropagation();\n",
              "          element.classList.toggle('function-repr-contents-collapsed');\n",
              "        };\n",
              "      }\n",
              "      </script>\n",
              "      </div>"
            ]
          },
          "metadata": {},
          "execution_count": 13
        }
      ]
    },
    {
      "cell_type": "code",
      "source": [
        "spark"
      ],
      "metadata": {
        "colab": {
          "base_uri": "https://localhost:8080/",
          "height": 219
        },
        "id": "fFOC1Ig6ydZm",
        "outputId": "6f3eff0e-e206-4a42-8d92-ff4c85e67687"
      },
      "execution_count": null,
      "outputs": [
        {
          "output_type": "execute_result",
          "data": {
            "text/plain": [
              "<pyspark.sql.session.SparkSession at 0x791c41647fd0>"
            ],
            "text/html": [
              "\n",
              "            <div>\n",
              "                <p><b>SparkSession - in-memory</b></p>\n",
              "                \n",
              "        <div>\n",
              "            <p><b>SparkContext</b></p>\n",
              "\n",
              "            <p><a href=\"http://5a3bee1f303a:4040\">Spark UI</a></p>\n",
              "\n",
              "            <dl>\n",
              "              <dt>Version</dt>\n",
              "                <dd><code>v3.5.1</code></dd>\n",
              "              <dt>Master</dt>\n",
              "                <dd><code>local[*]</code></dd>\n",
              "              <dt>AppName</dt>\n",
              "                <dd><code>29/07/25</code></dd>\n",
              "            </dl>\n",
              "        </div>\n",
              "        \n",
              "            </div>\n",
              "        "
            ]
          },
          "metadata": {},
          "execution_count": 14
        }
      ]
    },
    {
      "cell_type": "code",
      "source": [
        "df.show(10)"
      ],
      "metadata": {
        "colab": {
          "base_uri": "https://localhost:8080/"
        },
        "id": "yob_Pz97yn8-",
        "outputId": "74db9921-cc75-42c8-d83f-b6d27c1fc0b0"
      },
      "execution_count": null,
      "outputs": [
        {
          "output_type": "stream",
          "name": "stdout",
          "text": [
            "+---------------+-----------+----------------+---------------+--------------------+--------+-----------------+-------------------------+-----------+--------------------+-----------------+-----------------+\n",
            "|Item_Identifier|Item_Weight|Item_Fat_Content|Item_Visibility|           Item_Type|Item_MRP|Outlet_Identifier|Outlet_Establishment_Year|Outlet_Size|Outlet_Location_Type|      Outlet_Type|Item_Outlet_Sales|\n",
            "+---------------+-----------+----------------+---------------+--------------------+--------+-----------------+-------------------------+-----------+--------------------+-----------------+-----------------+\n",
            "|          FDA15|        9.3|         Low Fat|    0.016047301|               Dairy|249.8092|           OUT049|                     1999|     Medium|              Tier 1|Supermarket Type1|         3735.138|\n",
            "|          DRC01|       5.92|         Regular|    0.019278216|         Soft Drinks| 48.2692|           OUT018|                     2009|     Medium|              Tier 3|Supermarket Type2|         443.4228|\n",
            "|          FDN15|       17.5|         Low Fat|    0.016760075|                Meat| 141.618|           OUT049|                     1999|     Medium|              Tier 1|Supermarket Type1|          2097.27|\n",
            "|          FDX07|       19.2|         Regular|              0|Fruits and Vegeta...| 182.095|           OUT010|                     1998|       NULL|              Tier 3|    Grocery Store|           732.38|\n",
            "|          NCD19|       8.93|         Low Fat|              0|           Household| 53.8614|           OUT013|                     1987|       High|              Tier 3|Supermarket Type1|         994.7052|\n",
            "|          FDP36|     10.395|         Regular|              0|        Baking Goods| 51.4008|           OUT018|                     2009|     Medium|              Tier 3|Supermarket Type2|         556.6088|\n",
            "|          FDO10|      13.65|         Regular|    0.012741089|         Snack Foods| 57.6588|           OUT013|                     1987|       High|              Tier 3|Supermarket Type1|         343.5528|\n",
            "|          FDP10|       NULL|         Low Fat|    0.127469857|         Snack Foods|107.7622|           OUT027|                     1985|     Medium|              Tier 3|Supermarket Type3|        4022.7636|\n",
            "|          FDH17|       16.2|         Regular|    0.016687114|        Frozen Foods| 96.9726|           OUT045|                     2002|       NULL|              Tier 2|Supermarket Type1|        1076.5986|\n",
            "|          FDU28|       19.2|         Regular|     0.09444959|        Frozen Foods|187.8214|           OUT017|                     2007|       NULL|              Tier 2|Supermarket Type1|         4710.535|\n",
            "+---------------+-----------+----------------+---------------+--------------------+--------+-----------------+-------------------------+-----------+--------------------+-----------------+-----------------+\n",
            "only showing top 10 rows\n",
            "\n"
          ]
        }
      ]
    },
    {
      "cell_type": "code",
      "source": [
        "df.printSchema()"
      ],
      "metadata": {
        "colab": {
          "base_uri": "https://localhost:8080/"
        },
        "id": "t8SuTG48yuTS",
        "outputId": "9907a1d8-b61d-4a8c-a88d-2edd10ca8949"
      },
      "execution_count": null,
      "outputs": [
        {
          "output_type": "stream",
          "name": "stdout",
          "text": [
            "root\n",
            " |-- Item_Identifier: string (nullable = true)\n",
            " |-- Item_Weight: string (nullable = true)\n",
            " |-- Item_Fat_Content: string (nullable = true)\n",
            " |-- Item_Visibility: string (nullable = true)\n",
            " |-- Item_Type: string (nullable = true)\n",
            " |-- Item_MRP: string (nullable = true)\n",
            " |-- Outlet_Identifier: string (nullable = true)\n",
            " |-- Outlet_Establishment_Year: string (nullable = true)\n",
            " |-- Outlet_Size: string (nullable = true)\n",
            " |-- Outlet_Location_Type: string (nullable = true)\n",
            " |-- Outlet_Type: string (nullable = true)\n",
            " |-- Item_Outlet_Sales: string (nullable = true)\n",
            "\n"
          ]
        }
      ]
    },
    {
      "cell_type": "code",
      "source": [
        "df.columns"
      ],
      "metadata": {
        "colab": {
          "base_uri": "https://localhost:8080/"
        },
        "id": "CLltD0vgzS-P",
        "outputId": "d7cd1a2a-82f3-4bc6-8dc7-db2bd555ab97"
      },
      "execution_count": null,
      "outputs": [
        {
          "output_type": "execute_result",
          "data": {
            "text/plain": [
              "['Item_Identifier',\n",
              " 'Item_Weight',\n",
              " 'Item_Fat_Content',\n",
              " 'Item_Visibility',\n",
              " 'Item_Type',\n",
              " 'Item_MRP',\n",
              " 'Outlet_Identifier',\n",
              " 'Outlet_Establishment_Year',\n",
              " 'Outlet_Size',\n",
              " 'Outlet_Location_Type',\n",
              " 'Outlet_Type',\n",
              " 'Item_Outlet_Sales']"
            ]
          },
          "metadata": {},
          "execution_count": 17
        }
      ]
    },
    {
      "cell_type": "code",
      "source": [
        "df.select('Item_Identifier','Item_Type').show()"
      ],
      "metadata": {
        "colab": {
          "base_uri": "https://localhost:8080/"
        },
        "id": "oPLzkKsXz3WJ",
        "outputId": "6ef6b3eb-9a2e-4598-9600-92eae76672a2"
      },
      "execution_count": null,
      "outputs": [
        {
          "output_type": "stream",
          "name": "stdout",
          "text": [
            "+---------------+--------------------+\n",
            "|Item_Identifier|           Item_Type|\n",
            "+---------------+--------------------+\n",
            "|          FDA15|               Dairy|\n",
            "|          DRC01|         Soft Drinks|\n",
            "|          FDN15|                Meat|\n",
            "|          FDX07|Fruits and Vegeta...|\n",
            "|          NCD19|           Household|\n",
            "|          FDP36|        Baking Goods|\n",
            "|          FDO10|         Snack Foods|\n",
            "|          FDP10|         Snack Foods|\n",
            "|          FDH17|        Frozen Foods|\n",
            "|          FDU28|        Frozen Foods|\n",
            "|          FDY07|Fruits and Vegeta...|\n",
            "|          FDA03|               Dairy|\n",
            "|          FDX32|Fruits and Vegeta...|\n",
            "|          FDS46|         Snack Foods|\n",
            "|          FDF32|Fruits and Vegeta...|\n",
            "|          FDP49|           Breakfast|\n",
            "|          NCB42|  Health and Hygiene|\n",
            "|          FDP49|           Breakfast|\n",
            "|          DRI11|         Hard Drinks|\n",
            "|          FDU02|               Dairy|\n",
            "+---------------+--------------------+\n",
            "only showing top 20 rows\n",
            "\n"
          ]
        }
      ]
    },
    {
      "cell_type": "code",
      "source": [
        "df.describe().show()"
      ],
      "metadata": {
        "colab": {
          "base_uri": "https://localhost:8080/"
        },
        "id": "VGWxaDLq1c_O",
        "outputId": "a1807352-75e2-4fdd-a4bb-24840d69c7ec"
      },
      "execution_count": null,
      "outputs": [
        {
          "output_type": "stream",
          "name": "stdout",
          "text": [
            "+-------+---------------+------------------+----------------+-------------------+-------------+-----------------+-----------------+-------------------------+-----------+--------------------+-----------------+------------------+\n",
            "|summary|Item_Identifier|       Item_Weight|Item_Fat_Content|    Item_Visibility|    Item_Type|         Item_MRP|Outlet_Identifier|Outlet_Establishment_Year|Outlet_Size|Outlet_Location_Type|      Outlet_Type| Item_Outlet_Sales|\n",
            "+-------+---------------+------------------+----------------+-------------------+-------------+-----------------+-----------------+-------------------------+-----------+--------------------+-----------------+------------------+\n",
            "|  count|           8523|              7060|            8523|               8523|         8523|             8523|             8523|                     8523|       6113|                8523|             8523|              8523|\n",
            "|   mean|           NULL|12.857645184136183|            NULL|0.06613202877895127|         NULL|140.9927819781768|             NULL|       1997.8318667135984|       NULL|                NULL|             NULL|2181.2889135750365|\n",
            "| stddev|           NULL| 4.643456499186414|            NULL|0.05159782232113514|         NULL|62.27506651219047|             NULL|        8.371760408092667|       NULL|                NULL|             NULL|1706.4996157338403|\n",
            "|    min|          DRA12|                10|              LF|                  0| Baking Goods|         100.0016|           OUT010|                     1985|       High|              Tier 1|    Grocery Store|         1000.6974|\n",
            "|    max|          NCZ54|             9.895|             reg|        0.328390948|Starchy Foods|          99.9384|           OUT049|                     2009|      Small|              Tier 3|Supermarket Type3|          999.3658|\n",
            "+-------+---------------+------------------+----------------+-------------------+-------------+-----------------+-----------------+-------------------------+-----------+--------------------+-----------------+------------------+\n",
            "\n"
          ]
        }
      ]
    },
    {
      "cell_type": "code",
      "source": [
        "from pyspark.sql.functions import col,lit"
      ],
      "metadata": {
        "id": "eG7awHI51scR"
      },
      "execution_count": null,
      "outputs": []
    },
    {
      "cell_type": "code",
      "source": [
        "df.select(\"Item_MRP\").show(5)"
      ],
      "metadata": {
        "colab": {
          "base_uri": "https://localhost:8080/"
        },
        "id": "PJygLeFs2CBk",
        "outputId": "4f8846bb-963f-4082-aaff-13241900fb77"
      },
      "execution_count": null,
      "outputs": [
        {
          "output_type": "stream",
          "name": "stdout",
          "text": [
            "+--------+\n",
            "|Item_MRP|\n",
            "+--------+\n",
            "|249.8092|\n",
            "| 48.2692|\n",
            "| 141.618|\n",
            "| 182.095|\n",
            "| 53.8614|\n",
            "+--------+\n",
            "only showing top 5 rows\n",
            "\n"
          ]
        }
      ]
    },
    {
      "cell_type": "code",
      "source": [
        "df2=df.withColumn(\"Item_MRP+10\",(df['Item_MRP']*110)/100)"
      ],
      "metadata": {
        "id": "kzrvTOv-17iq"
      },
      "execution_count": null,
      "outputs": []
    },
    {
      "cell_type": "code",
      "source": [
        "df2.show(10)"
      ],
      "metadata": {
        "colab": {
          "base_uri": "https://localhost:8080/"
        },
        "collapsed": true,
        "id": "7YiQW7Y32md3",
        "outputId": "44793cac-8f86-42e3-858b-ca718745be18"
      },
      "execution_count": null,
      "outputs": [
        {
          "output_type": "stream",
          "name": "stdout",
          "text": [
            "+---------------+-----------+----------------+---------------+--------------------+--------+-----------------+-------------------------+-----------+--------------------+-----------------+-----------------+------------------+\n",
            "|Item_Identifier|Item_Weight|Item_Fat_Content|Item_Visibility|           Item_Type|Item_MRP|Outlet_Identifier|Outlet_Establishment_Year|Outlet_Size|Outlet_Location_Type|      Outlet_Type|Item_Outlet_Sales|       Item_MRP+10|\n",
            "+---------------+-----------+----------------+---------------+--------------------+--------+-----------------+-------------------------+-----------+--------------------+-----------------+-----------------+------------------+\n",
            "|          FDA15|        9.3|         Low Fat|    0.016047301|               Dairy|249.8092|           OUT049|                     1999|     Medium|              Tier 1|Supermarket Type1|         3735.138|         274.79012|\n",
            "|          DRC01|       5.92|         Regular|    0.019278216|         Soft Drinks| 48.2692|           OUT018|                     2009|     Medium|              Tier 3|Supermarket Type2|         443.4228|          53.09612|\n",
            "|          FDN15|       17.5|         Low Fat|    0.016760075|                Meat| 141.618|           OUT049|                     1999|     Medium|              Tier 1|Supermarket Type1|          2097.27|          155.7798|\n",
            "|          FDX07|       19.2|         Regular|              0|Fruits and Vegeta...| 182.095|           OUT010|                     1998|       NULL|              Tier 3|    Grocery Store|           732.38|200.30450000000002|\n",
            "|          NCD19|       8.93|         Low Fat|              0|           Household| 53.8614|           OUT013|                     1987|       High|              Tier 3|Supermarket Type1|         994.7052| 59.24754000000001|\n",
            "|          FDP36|     10.395|         Regular|              0|        Baking Goods| 51.4008|           OUT018|                     2009|     Medium|              Tier 3|Supermarket Type2|         556.6088|56.540879999999994|\n",
            "|          FDO10|      13.65|         Regular|    0.012741089|         Snack Foods| 57.6588|           OUT013|                     1987|       High|              Tier 3|Supermarket Type1|         343.5528|63.424679999999995|\n",
            "|          FDP10|       NULL|         Low Fat|    0.127469857|         Snack Foods|107.7622|           OUT027|                     1985|     Medium|              Tier 3|Supermarket Type3|        4022.7636|         118.53842|\n",
            "|          FDH17|       16.2|         Regular|    0.016687114|        Frozen Foods| 96.9726|           OUT045|                     2002|       NULL|              Tier 2|Supermarket Type1|        1076.5986|106.66986000000001|\n",
            "|          FDU28|       19.2|         Regular|     0.09444959|        Frozen Foods|187.8214|           OUT017|                     2007|       NULL|              Tier 2|Supermarket Type1|         4710.535|206.60354000000004|\n",
            "+---------------+-----------+----------------+---------------+--------------------+--------+-----------------+-------------------------+-----------+--------------------+-----------------+-----------------+------------------+\n",
            "only showing top 10 rows\n",
            "\n"
          ]
        }
      ]
    },
    {
      "cell_type": "code",
      "source": [
        "df2=df2.withColumnRenamed(\"Item_MRP+10\",\"Item_MRP+10%\")"
      ],
      "metadata": {
        "id": "mlfAoS832p1V"
      },
      "execution_count": null,
      "outputs": []
    },
    {
      "cell_type": "code",
      "source": [
        "df.drop(\"Item_MRP\")"
      ],
      "metadata": {
        "colab": {
          "base_uri": "https://localhost:8080/"
        },
        "id": "IXGpB__u3YLT",
        "outputId": "f2167b07-c72c-420d-a79d-a87f9c462ef9"
      },
      "execution_count": null,
      "outputs": [
        {
          "output_type": "execute_result",
          "data": {
            "text/plain": [
              "DataFrame[Item_Identifier: string, Item_Weight: string, Item_Fat_Content: string, Item_Visibility: string, Item_Type: string, Outlet_Identifier: string, Outlet_Establishment_Year: string, Outlet_Size: string, Outlet_Location_Type: string, Outlet_Type: string, Item_Outlet_Sales: string]"
            ]
          },
          "metadata": {},
          "execution_count": 25
        }
      ]
    },
    {
      "cell_type": "code",
      "source": [
        "from pyspark.sql.functions import col, sum\n",
        "\n",
        "null_counts = df2.select([\n",
        "    sum(col(c).isNull().cast(\"int\")).alias(c)\n",
        "    for c in df2.columns\n",
        "])\n",
        "\n",
        "null_counts.show()"
      ],
      "metadata": {
        "colab": {
          "base_uri": "https://localhost:8080/"
        },
        "id": "gZ_TfXdf3_Lb",
        "outputId": "45b214c1-ca55-4276-91a6-4d1fd3112862"
      },
      "execution_count": null,
      "outputs": [
        {
          "output_type": "stream",
          "name": "stdout",
          "text": [
            "+---------------+-----------+----------------+---------------+---------+--------+-----------------+-------------------------+-----------+--------------------+-----------+-----------------+------------+\n",
            "|Item_Identifier|Item_Weight|Item_Fat_Content|Item_Visibility|Item_Type|Item_MRP|Outlet_Identifier|Outlet_Establishment_Year|Outlet_Size|Outlet_Location_Type|Outlet_Type|Item_Outlet_Sales|Item_MRP+10%|\n",
            "+---------------+-----------+----------------+---------------+---------+--------+-----------------+-------------------------+-----------+--------------------+-----------+-----------------+------------+\n",
            "|              0|       1463|               0|              0|        0|       0|                0|                        0|       2410|                   0|          0|                0|           0|\n",
            "+---------------+-----------+----------------+---------------+---------+--------+-----------------+-------------------------+-----------+--------------------+-----------+-----------------+------------+\n",
            "\n"
          ]
        }
      ]
    },
    {
      "cell_type": "code",
      "source": [
        "df.describe().show()"
      ],
      "metadata": {
        "colab": {
          "base_uri": "https://localhost:8080/"
        },
        "id": "IQ4aaXXkMM2F",
        "outputId": "46e7642d-9325-44ce-fb4f-91f68b6b731f"
      },
      "execution_count": null,
      "outputs": [
        {
          "output_type": "stream",
          "name": "stdout",
          "text": [
            "+-------+---------------+------------------+----------------+-------------------+-------------+-----------------+-----------------+-------------------------+-----------+--------------------+-----------------+------------------+\n",
            "|summary|Item_Identifier|       Item_Weight|Item_Fat_Content|    Item_Visibility|    Item_Type|         Item_MRP|Outlet_Identifier|Outlet_Establishment_Year|Outlet_Size|Outlet_Location_Type|      Outlet_Type| Item_Outlet_Sales|\n",
            "+-------+---------------+------------------+----------------+-------------------+-------------+-----------------+-----------------+-------------------------+-----------+--------------------+-----------------+------------------+\n",
            "|  count|           8523|              7060|            8523|               8523|         8523|             8523|             8523|                     8523|       6113|                8523|             8523|              8523|\n",
            "|   mean|           NULL|12.857645184136183|            NULL|0.06613202877895127|         NULL|140.9927819781768|             NULL|       1997.8318667135984|       NULL|                NULL|             NULL|2181.2889135750365|\n",
            "| stddev|           NULL| 4.643456499186414|            NULL|0.05159782232113514|         NULL|62.27506651219047|             NULL|        8.371760408092667|       NULL|                NULL|             NULL|1706.4996157338403|\n",
            "|    min|          DRA12|                10|              LF|                  0| Baking Goods|         100.0016|           OUT010|                     1985|       High|              Tier 1|    Grocery Store|         1000.6974|\n",
            "|    max|          NCZ54|             9.895|             reg|        0.328390948|Starchy Foods|          99.9384|           OUT049|                     2009|      Small|              Tier 3|Supermarket Type3|          999.3658|\n",
            "+-------+---------------+------------------+----------------+-------------------+-------------+-----------------+-----------------+-------------------------+-----------+--------------------+-----------------+------------------+\n",
            "\n"
          ]
        }
      ]
    },
    {
      "cell_type": "code",
      "source": [
        "df2 = df2.withColumn('Item_Weight',col(\"Item_Weight\").cast(\"double\"))"
      ],
      "metadata": {
        "id": "Poawfh-lKfor"
      },
      "execution_count": null,
      "outputs": []
    },
    {
      "cell_type": "code",
      "source": [
        "from pyspark.ml.feature import Imputer"
      ],
      "metadata": {
        "id": "XrM3okts5oRb"
      },
      "execution_count": null,
      "outputs": []
    },
    {
      "cell_type": "code",
      "source": [
        "from pyspark.ml.feature import Imputer\n",
        "\n",
        "imputer = Imputer(\n",
        "    inputCols=['Item_Weight'],\n",
        "    outputCols=[\"{}_imputed\".format(c) for c in ['Item_Weight']]\n",
        ").setStrategy(\"mean\")"
      ],
      "metadata": {
        "id": "syYX3Ksv6U1y"
      },
      "execution_count": null,
      "outputs": []
    },
    {
      "cell_type": "code",
      "source": [
        "df2 = imputer.fit(df2).transform(df2)\n",
        "df2.show()"
      ],
      "metadata": {
        "id": "HOUYaCDzIbAG",
        "colab": {
          "base_uri": "https://localhost:8080/"
        },
        "outputId": "ba01fb80-3b9b-46f5-d9ae-a60c1f92de97"
      },
      "execution_count": null,
      "outputs": [
        {
          "output_type": "stream",
          "name": "stdout",
          "text": [
            "+---------------+-----------+----------------+---------------+--------------------+--------+-----------------+-------------------------+-----------+--------------------+-----------------+-----------------+------------------+-------------------+\n",
            "|Item_Identifier|Item_Weight|Item_Fat_Content|Item_Visibility|           Item_Type|Item_MRP|Outlet_Identifier|Outlet_Establishment_Year|Outlet_Size|Outlet_Location_Type|      Outlet_Type|Item_Outlet_Sales|      Item_MRP+10%|Item_Weight_imputed|\n",
            "+---------------+-----------+----------------+---------------+--------------------+--------+-----------------+-------------------------+-----------+--------------------+-----------------+-----------------+------------------+-------------------+\n",
            "|          FDA15|        9.3|         Low Fat|    0.016047301|               Dairy|249.8092|           OUT049|                     1999|     Medium|              Tier 1|Supermarket Type1|         3735.138|         274.79012|                9.3|\n",
            "|          DRC01|       5.92|         Regular|    0.019278216|         Soft Drinks| 48.2692|           OUT018|                     2009|     Medium|              Tier 3|Supermarket Type2|         443.4228|          53.09612|               5.92|\n",
            "|          FDN15|       17.5|         Low Fat|    0.016760075|                Meat| 141.618|           OUT049|                     1999|     Medium|              Tier 1|Supermarket Type1|          2097.27|          155.7798|               17.5|\n",
            "|          FDX07|       19.2|         Regular|              0|Fruits and Vegeta...| 182.095|           OUT010|                     1998|       NULL|              Tier 3|    Grocery Store|           732.38|200.30450000000002|               19.2|\n",
            "|          NCD19|       8.93|         Low Fat|              0|           Household| 53.8614|           OUT013|                     1987|       High|              Tier 3|Supermarket Type1|         994.7052| 59.24754000000001|               8.93|\n",
            "|          FDP36|     10.395|         Regular|              0|        Baking Goods| 51.4008|           OUT018|                     2009|     Medium|              Tier 3|Supermarket Type2|         556.6088|56.540879999999994|             10.395|\n",
            "|          FDO10|      13.65|         Regular|    0.012741089|         Snack Foods| 57.6588|           OUT013|                     1987|       High|              Tier 3|Supermarket Type1|         343.5528|63.424679999999995|              13.65|\n",
            "|          FDP10|       NULL|         Low Fat|    0.127469857|         Snack Foods|107.7622|           OUT027|                     1985|     Medium|              Tier 3|Supermarket Type3|        4022.7636|         118.53842| 12.857645184136183|\n",
            "|          FDH17|       16.2|         Regular|    0.016687114|        Frozen Foods| 96.9726|           OUT045|                     2002|       NULL|              Tier 2|Supermarket Type1|        1076.5986|106.66986000000001|               16.2|\n",
            "|          FDU28|       19.2|         Regular|     0.09444959|        Frozen Foods|187.8214|           OUT017|                     2007|       NULL|              Tier 2|Supermarket Type1|         4710.535|206.60354000000004|               19.2|\n",
            "|          FDY07|       11.8|         Low Fat|              0|Fruits and Vegeta...| 45.5402|           OUT049|                     1999|     Medium|              Tier 1|Supermarket Type1|        1516.0266| 50.09421999999999|               11.8|\n",
            "|          FDA03|       18.5|         Regular|    0.045463773|               Dairy|144.1102|           OUT046|                     1997|      Small|              Tier 1|Supermarket Type1|         2187.153|         158.52122|               18.5|\n",
            "|          FDX32|       15.1|         Regular|      0.1000135|Fruits and Vegeta...|145.4786|           OUT049|                     1999|     Medium|              Tier 1|Supermarket Type1|        1589.2646|160.02646000000001|               15.1|\n",
            "|          FDS46|       17.6|         Regular|    0.047257328|         Snack Foods|119.6782|           OUT046|                     1997|      Small|              Tier 1|Supermarket Type1|        2145.2076|131.64602000000002|               17.6|\n",
            "|          FDF32|      16.35|         Low Fat|      0.0680243|Fruits and Vegeta...|196.4426|           OUT013|                     1987|       High|              Tier 3|Supermarket Type1|         1977.426|         216.08686|              16.35|\n",
            "|          FDP49|        9.0|         Regular|    0.069088961|           Breakfast| 56.3614|           OUT046|                     1997|      Small|              Tier 1|Supermarket Type1|        1547.3192| 61.99754000000001|                9.0|\n",
            "|          NCB42|       11.8|         Low Fat|    0.008596051|  Health and Hygiene|115.3492|           OUT018|                     2009|     Medium|              Tier 3|Supermarket Type2|        1621.8888|         126.88412|               11.8|\n",
            "|          FDP49|        9.0|         Regular|    0.069196376|           Breakfast| 54.3614|           OUT049|                     1999|     Medium|              Tier 1|Supermarket Type1|         718.3982|59.797540000000005|                9.0|\n",
            "|          DRI11|       NULL|         Low Fat|    0.034237682|         Hard Drinks|113.2834|           OUT027|                     1985|     Medium|              Tier 3|Supermarket Type3|         2303.668|124.61174000000001| 12.857645184136183|\n",
            "|          FDU02|      13.35|         Low Fat|     0.10249212|               Dairy|230.5352|           OUT035|                     2004|      Small|              Tier 2|Supermarket Type1|        2748.4224|         253.58872|              13.35|\n",
            "+---------------+-----------+----------------+---------------+--------------------+--------+-----------------+-------------------------+-----------+--------------------+-----------------+-----------------+------------------+-------------------+\n",
            "only showing top 20 rows\n",
            "\n"
          ]
        }
      ]
    },
    {
      "cell_type": "code",
      "source": [
        "count_null = df2.select([\n",
        "    sum(col(c).isNull().cast(\"int\")).alias(c)\n",
        "    for c in df2.columns\n",
        "])\n",
        "count_null.show()"
      ],
      "metadata": {
        "colab": {
          "base_uri": "https://localhost:8080/"
        },
        "id": "bNEJ6OFiIkK4",
        "outputId": "c4240de6-ca6e-4c1c-e093-fe27dac19f4e"
      },
      "execution_count": null,
      "outputs": [
        {
          "output_type": "stream",
          "name": "stdout",
          "text": [
            "+---------------+-----------+----------------+---------------+---------+--------+-----------------+-------------------------+-----------+--------------------+-----------+-----------------+------------+-------------------+\n",
            "|Item_Identifier|Item_Weight|Item_Fat_Content|Item_Visibility|Item_Type|Item_MRP|Outlet_Identifier|Outlet_Establishment_Year|Outlet_Size|Outlet_Location_Type|Outlet_Type|Item_Outlet_Sales|Item_MRP+10%|Item_Weight_imputed|\n",
            "+---------------+-----------+----------------+---------------+---------+--------+-----------------+-------------------------+-----------+--------------------+-----------+-----------------+------------+-------------------+\n",
            "|              0|       1463|               0|              0|        0|       0|                0|                        0|       2410|                   0|          0|                0|           0|                  0|\n",
            "+---------------+-----------+----------------+---------------+---------+--------+-----------------+-------------------------+-----------+--------------------+-----------+-----------------+------------+-------------------+\n",
            "\n"
          ]
        }
      ]
    },
    {
      "cell_type": "code",
      "source": [
        "df2.select(\"Item_Weight_imputed\").show()"
      ],
      "metadata": {
        "colab": {
          "base_uri": "https://localhost:8080/"
        },
        "id": "AspAAvflNBXm",
        "outputId": "e73d26be-6567-48eb-91fd-478cbc96e5be"
      },
      "execution_count": null,
      "outputs": [
        {
          "output_type": "stream",
          "name": "stdout",
          "text": [
            "+-------------------+\n",
            "|Item_Weight_imputed|\n",
            "+-------------------+\n",
            "|                9.3|\n",
            "|               5.92|\n",
            "|               17.5|\n",
            "|               19.2|\n",
            "|               8.93|\n",
            "|             10.395|\n",
            "|              13.65|\n",
            "| 12.857645184136183|\n",
            "|               16.2|\n",
            "|               19.2|\n",
            "|               11.8|\n",
            "|               18.5|\n",
            "|               15.1|\n",
            "|               17.6|\n",
            "|              16.35|\n",
            "|                9.0|\n",
            "|               11.8|\n",
            "|                9.0|\n",
            "| 12.857645184136183|\n",
            "|              13.35|\n",
            "+-------------------+\n",
            "only showing top 20 rows\n",
            "\n"
          ]
        }
      ]
    },
    {
      "cell_type": "code",
      "source": [
        "df2.filter(col(\"Item_Weight_imputed\")<10).select(['Item_Weight_imputed','Item_Type','Item_MRP']).show()"
      ],
      "metadata": {
        "colab": {
          "base_uri": "https://localhost:8080/"
        },
        "id": "h00H8VbAOEnS",
        "outputId": "7b25889b-99ac-448b-c782-ef4339f6fea5"
      },
      "execution_count": null,
      "outputs": [
        {
          "output_type": "stream",
          "name": "stdout",
          "text": [
            "+-------------------+------------------+--------+\n",
            "|Item_Weight_imputed|         Item_Type|Item_MRP|\n",
            "+-------------------+------------------+--------+\n",
            "|                9.3|             Dairy|249.8092|\n",
            "|               5.92|       Soft Drinks| 48.2692|\n",
            "|               8.93|         Household| 53.8614|\n",
            "|                9.0|         Breakfast| 56.3614|\n",
            "|                9.0|         Breakfast| 54.3614|\n",
            "|              7.645|       Snack Foods| 42.3112|\n",
            "|              5.925|             Dairy| 45.5086|\n",
            "|               8.85|       Soft Drinks|122.5388|\n",
            "|                9.8|              Meat| 126.002|\n",
            "|               6.42|             Dairy|178.1002|\n",
            "|               7.39|Health and Hygiene|143.8812|\n",
            "|              9.895|            Canned|117.0492|\n",
            "|              7.905|       Snack Foods|249.0408|\n",
            "|              9.195|         Household|106.1622|\n",
            "|              8.365|       Hard Drinks| 38.0506|\n",
            "|               7.97|              Meat| 87.3514|\n",
            "|              8.645|Health and Hygiene|  95.841|\n",
            "|              7.855|            Canned|189.6188|\n",
            "|              7.825|         Household|254.3698|\n",
            "|               8.39|      Frozen Foods|114.0176|\n",
            "+-------------------+------------------+--------+\n",
            "only showing top 20 rows\n",
            "\n"
          ]
        }
      ]
    },
    {
      "cell_type": "code",
      "source": [
        "df2.columns"
      ],
      "metadata": {
        "id": "_kaT6mB4PCql",
        "colab": {
          "base_uri": "https://localhost:8080/"
        },
        "outputId": "841787dc-16de-41f5-b92e-3ef01023b81f"
      },
      "execution_count": null,
      "outputs": [
        {
          "output_type": "execute_result",
          "data": {
            "text/plain": [
              "['Item_Identifier',\n",
              " 'Item_Weight',\n",
              " 'Item_Fat_Content',\n",
              " 'Item_Visibility',\n",
              " 'Item_Type',\n",
              " 'Item_MRP',\n",
              " 'Outlet_Identifier',\n",
              " 'Outlet_Establishment_Year',\n",
              " 'Outlet_Size',\n",
              " 'Outlet_Location_Type',\n",
              " 'Outlet_Type',\n",
              " 'Item_Outlet_Sales',\n",
              " 'Item_MRP+10%',\n",
              " 'Item_Weight_imputed']"
            ]
          },
          "metadata": {},
          "execution_count": 35
        }
      ]
    },
    {
      "cell_type": "code",
      "source": [
        "df2.filter((df2['Item_Weight_imputed']>=10)&(df2['Item_MRP']>=100)).show()"
      ],
      "metadata": {
        "colab": {
          "base_uri": "https://localhost:8080/"
        },
        "id": "pbSPowuN_MHT",
        "outputId": "8fa45736-a4f9-48ef-dda3-cbc299a2e1c5"
      },
      "execution_count": null,
      "outputs": [
        {
          "output_type": "stream",
          "name": "stdout",
          "text": [
            "+---------------+-----------+----------------+---------------+--------------------+--------+-----------------+-------------------------+-----------+--------------------+-----------------+-----------------+------------------+-------------------+\n",
            "|Item_Identifier|Item_Weight|Item_Fat_Content|Item_Visibility|           Item_Type|Item_MRP|Outlet_Identifier|Outlet_Establishment_Year|Outlet_Size|Outlet_Location_Type|      Outlet_Type|Item_Outlet_Sales|      Item_MRP+10%|Item_Weight_imputed|\n",
            "+---------------+-----------+----------------+---------------+--------------------+--------+-----------------+-------------------------+-----------+--------------------+-----------------+-----------------+------------------+-------------------+\n",
            "|          FDN15|       17.5|         Low Fat|    0.016760075|                Meat| 141.618|           OUT049|                     1999|     Medium|              Tier 1|Supermarket Type1|          2097.27|          155.7798|               17.5|\n",
            "|          FDX07|       19.2|         Regular|              0|Fruits and Vegeta...| 182.095|           OUT010|                     1998|       NULL|              Tier 3|    Grocery Store|           732.38|200.30450000000002|               19.2|\n",
            "|          FDP10|       NULL|         Low Fat|    0.127469857|         Snack Foods|107.7622|           OUT027|                     1985|     Medium|              Tier 3|Supermarket Type3|        4022.7636|         118.53842| 12.857645184136183|\n",
            "|          FDU28|       19.2|         Regular|     0.09444959|        Frozen Foods|187.8214|           OUT017|                     2007|       NULL|              Tier 2|Supermarket Type1|         4710.535|206.60354000000004|               19.2|\n",
            "|          FDA03|       18.5|         Regular|    0.045463773|               Dairy|144.1102|           OUT046|                     1997|      Small|              Tier 1|Supermarket Type1|         2187.153|         158.52122|               18.5|\n",
            "|          FDX32|       15.1|         Regular|      0.1000135|Fruits and Vegeta...|145.4786|           OUT049|                     1999|     Medium|              Tier 1|Supermarket Type1|        1589.2646|160.02646000000001|               15.1|\n",
            "|          FDS46|       17.6|         Regular|    0.047257328|         Snack Foods|119.6782|           OUT046|                     1997|      Small|              Tier 1|Supermarket Type1|        2145.2076|131.64602000000002|               17.6|\n",
            "|          FDF32|      16.35|         Low Fat|      0.0680243|Fruits and Vegeta...|196.4426|           OUT013|                     1987|       High|              Tier 3|Supermarket Type1|         1977.426|         216.08686|              16.35|\n",
            "|          NCB42|       11.8|         Low Fat|    0.008596051|  Health and Hygiene|115.3492|           OUT018|                     2009|     Medium|              Tier 3|Supermarket Type2|        1621.8888|         126.88412|               11.8|\n",
            "|          DRI11|       NULL|         Low Fat|    0.034237682|         Hard Drinks|113.2834|           OUT027|                     1985|     Medium|              Tier 3|Supermarket Type3|         2303.668|124.61174000000001| 12.857645184136183|\n",
            "|          FDU02|      13.35|         Low Fat|     0.10249212|               Dairy|230.5352|           OUT035|                     2004|      Small|              Tier 2|Supermarket Type1|        2748.4224|         253.58872|              13.35|\n",
            "|          FDN22|      18.85|         Regular|    0.138190277|         Snack Foods|250.8724|           OUT013|                     1987|       High|              Tier 3|Supermarket Type1|         3775.086|         275.95964|              18.85|\n",
            "|          FDW12|       NULL|         Regular|    0.035399923|        Baking Goods|144.5444|           OUT027|                     1985|     Medium|              Tier 3|Supermarket Type3|        4064.0432|         158.99884| 12.857645184136183|\n",
            "|          NCB30|       14.6|         Low Fat|    0.025698134|           Household|196.5084|           OUT035|                     2004|      Small|              Tier 2|Supermarket Type1|        1587.2672|216.15923999999998|               14.6|\n",
            "|          FDC37|       NULL|         Low Fat|    0.057556998|        Baking Goods|107.6938|           OUT019|                     1985|      Small|              Tier 1|    Grocery Store|         214.3876|         118.46318| 12.857645184136183|\n",
            "|          FDR28|      13.85|         Regular|    0.025896485|        Frozen Foods| 165.021|           OUT046|                     1997|      Small|              Tier 1|Supermarket Type1|         4078.025|181.52309999999997|              13.85|\n",
            "|          FDP33|       18.7|         Low Fat|              0|         Snack Foods|256.6672|           OUT018|                     2009|     Medium|              Tier 3|Supermarket Type2|        3068.0064|         282.33392|               18.7|\n",
            "|          DRH01|       17.5|         Low Fat|    0.097904029|         Soft Drinks|174.8738|           OUT046|                     1997|      Small|              Tier 1|Supermarket Type1|        2085.2856|         192.36118|               17.5|\n",
            "|          NCX29|       10.0|         Low Fat|    0.089291137|  Health and Hygiene|146.7102|           OUT049|                     1999|     Medium|              Tier 1|Supermarket Type1|        3791.0652|161.38121999999998|               10.0|\n",
            "|          FDV20|       NULL|         Regular|    0.059511812|Fruits and Vegeta...|128.0678|           OUT027|                     1985|     Medium|              Tier 3|Supermarket Type3|        2797.6916|         140.87458| 12.857645184136183|\n",
            "+---------------+-----------+----------------+---------------+--------------------+--------+-----------------+-------------------------+-----------+--------------------+-----------------+-----------------+------------------+-------------------+\n",
            "only showing top 20 rows\n",
            "\n"
          ]
        }
      ]
    },
    {
      "cell_type": "code",
      "source": [
        "df2.filter(~(df2['Item_Weight'].isNull())).show()"
      ],
      "metadata": {
        "colab": {
          "base_uri": "https://localhost:8080/"
        },
        "id": "d9if4SKFAC4X",
        "outputId": "7b7754ab-63a7-4c71-9c22-643bb4d14b53"
      },
      "execution_count": null,
      "outputs": [
        {
          "output_type": "stream",
          "name": "stdout",
          "text": [
            "+---------------+-----------+----------------+---------------+--------------------+--------+-----------------+-------------------------+-----------+--------------------+-----------------+-----------------+------------------+-------------------+\n",
            "|Item_Identifier|Item_Weight|Item_Fat_Content|Item_Visibility|           Item_Type|Item_MRP|Outlet_Identifier|Outlet_Establishment_Year|Outlet_Size|Outlet_Location_Type|      Outlet_Type|Item_Outlet_Sales|      Item_MRP+10%|Item_Weight_imputed|\n",
            "+---------------+-----------+----------------+---------------+--------------------+--------+-----------------+-------------------------+-----------+--------------------+-----------------+-----------------+------------------+-------------------+\n",
            "|          FDA15|        9.3|         Low Fat|    0.016047301|               Dairy|249.8092|           OUT049|                     1999|     Medium|              Tier 1|Supermarket Type1|         3735.138|         274.79012|                9.3|\n",
            "|          DRC01|       5.92|         Regular|    0.019278216|         Soft Drinks| 48.2692|           OUT018|                     2009|     Medium|              Tier 3|Supermarket Type2|         443.4228|          53.09612|               5.92|\n",
            "|          FDN15|       17.5|         Low Fat|    0.016760075|                Meat| 141.618|           OUT049|                     1999|     Medium|              Tier 1|Supermarket Type1|          2097.27|          155.7798|               17.5|\n",
            "|          FDX07|       19.2|         Regular|              0|Fruits and Vegeta...| 182.095|           OUT010|                     1998|       NULL|              Tier 3|    Grocery Store|           732.38|200.30450000000002|               19.2|\n",
            "|          NCD19|       8.93|         Low Fat|              0|           Household| 53.8614|           OUT013|                     1987|       High|              Tier 3|Supermarket Type1|         994.7052| 59.24754000000001|               8.93|\n",
            "|          FDP36|     10.395|         Regular|              0|        Baking Goods| 51.4008|           OUT018|                     2009|     Medium|              Tier 3|Supermarket Type2|         556.6088|56.540879999999994|             10.395|\n",
            "|          FDO10|      13.65|         Regular|    0.012741089|         Snack Foods| 57.6588|           OUT013|                     1987|       High|              Tier 3|Supermarket Type1|         343.5528|63.424679999999995|              13.65|\n",
            "|          FDH17|       16.2|         Regular|    0.016687114|        Frozen Foods| 96.9726|           OUT045|                     2002|       NULL|              Tier 2|Supermarket Type1|        1076.5986|106.66986000000001|               16.2|\n",
            "|          FDU28|       19.2|         Regular|     0.09444959|        Frozen Foods|187.8214|           OUT017|                     2007|       NULL|              Tier 2|Supermarket Type1|         4710.535|206.60354000000004|               19.2|\n",
            "|          FDY07|       11.8|         Low Fat|              0|Fruits and Vegeta...| 45.5402|           OUT049|                     1999|     Medium|              Tier 1|Supermarket Type1|        1516.0266| 50.09421999999999|               11.8|\n",
            "|          FDA03|       18.5|         Regular|    0.045463773|               Dairy|144.1102|           OUT046|                     1997|      Small|              Tier 1|Supermarket Type1|         2187.153|         158.52122|               18.5|\n",
            "|          FDX32|       15.1|         Regular|      0.1000135|Fruits and Vegeta...|145.4786|           OUT049|                     1999|     Medium|              Tier 1|Supermarket Type1|        1589.2646|160.02646000000001|               15.1|\n",
            "|          FDS46|       17.6|         Regular|    0.047257328|         Snack Foods|119.6782|           OUT046|                     1997|      Small|              Tier 1|Supermarket Type1|        2145.2076|131.64602000000002|               17.6|\n",
            "|          FDF32|      16.35|         Low Fat|      0.0680243|Fruits and Vegeta...|196.4426|           OUT013|                     1987|       High|              Tier 3|Supermarket Type1|         1977.426|         216.08686|              16.35|\n",
            "|          FDP49|        9.0|         Regular|    0.069088961|           Breakfast| 56.3614|           OUT046|                     1997|      Small|              Tier 1|Supermarket Type1|        1547.3192| 61.99754000000001|                9.0|\n",
            "|          NCB42|       11.8|         Low Fat|    0.008596051|  Health and Hygiene|115.3492|           OUT018|                     2009|     Medium|              Tier 3|Supermarket Type2|        1621.8888|         126.88412|               11.8|\n",
            "|          FDP49|        9.0|         Regular|    0.069196376|           Breakfast| 54.3614|           OUT049|                     1999|     Medium|              Tier 1|Supermarket Type1|         718.3982|59.797540000000005|                9.0|\n",
            "|          FDU02|      13.35|         Low Fat|     0.10249212|               Dairy|230.5352|           OUT035|                     2004|      Small|              Tier 2|Supermarket Type1|        2748.4224|         253.58872|              13.35|\n",
            "|          FDN22|      18.85|         Regular|    0.138190277|         Snack Foods|250.8724|           OUT013|                     1987|       High|              Tier 3|Supermarket Type1|         3775.086|         275.95964|              18.85|\n",
            "|          NCB30|       14.6|         Low Fat|    0.025698134|           Household|196.5084|           OUT035|                     2004|      Small|              Tier 2|Supermarket Type1|        1587.2672|216.15923999999998|               14.6|\n",
            "+---------------+-----------+----------------+---------------+--------------------+--------+-----------------+-------------------------+-----------+--------------------+-----------------+-----------------+------------------+-------------------+\n",
            "only showing top 20 rows\n",
            "\n"
          ]
        }
      ]
    },
    {
      "cell_type": "code",
      "source": [
        "df2.groupBy('Item_Fat_Content').agg(sum('Item_MRP')).show()"
      ],
      "metadata": {
        "colab": {
          "base_uri": "https://localhost:8080/"
        },
        "id": "L3Vnc4K2AuFy",
        "outputId": "e09533ff-bbcd-47e1-fe88-ebff20303a4d"
      },
      "execution_count": null,
      "outputs": [
        {
          "output_type": "stream",
          "name": "stdout",
          "text": [
            "+----------------+------------------+\n",
            "|Item_Fat_Content|     sum(Item_MRP)|\n",
            "+----------------+------------------+\n",
            "|         low fat|15071.732799999994|\n",
            "|         Low Fat| 717390.8393999999|\n",
            "|              LF|        43857.1062|\n",
            "|         Regular| 409413.1214000004|\n",
            "|             reg|15948.681000000002|\n",
            "+----------------+------------------+\n",
            "\n"
          ]
        }
      ]
    },
    {
      "cell_type": "code",
      "source": [
        "df2.groupBy('Item_Fat_Content').count().show()"
      ],
      "metadata": {
        "colab": {
          "base_uri": "https://localhost:8080/"
        },
        "id": "4bL57QBTCWwq",
        "outputId": "34591f05-181b-4f69-9788-d92bc2063a72"
      },
      "execution_count": null,
      "outputs": [
        {
          "output_type": "stream",
          "name": "stdout",
          "text": [
            "+----------------+-----+\n",
            "|Item_Fat_Content|count|\n",
            "+----------------+-----+\n",
            "|         low fat|  112|\n",
            "|         Low Fat| 5089|\n",
            "|              LF|  316|\n",
            "|         Regular| 2889|\n",
            "|             reg|  117|\n",
            "+----------------+-----+\n",
            "\n"
          ]
        }
      ]
    },
    {
      "cell_type": "code",
      "source": [
        "df2.groupBy(\"Item_Type\").count().show()"
      ],
      "metadata": {
        "colab": {
          "base_uri": "https://localhost:8080/"
        },
        "id": "_rBFhEGMCr_I",
        "outputId": "df406fe8-bd78-4988-e47d-ca30c30edd23"
      },
      "execution_count": null,
      "outputs": [
        {
          "output_type": "stream",
          "name": "stdout",
          "text": [
            "+--------------------+-----+\n",
            "|           Item_Type|count|\n",
            "+--------------------+-----+\n",
            "|       Starchy Foods|  148|\n",
            "|        Baking Goods|  648|\n",
            "|              Breads|  251|\n",
            "|Fruits and Vegeta...| 1232|\n",
            "|                Meat|  425|\n",
            "|         Hard Drinks|  214|\n",
            "|         Soft Drinks|  445|\n",
            "|           Household|  910|\n",
            "|           Breakfast|  110|\n",
            "|               Dairy|  682|\n",
            "|         Snack Foods| 1200|\n",
            "|              Others|  169|\n",
            "|             Seafood|   64|\n",
            "|              Canned|  649|\n",
            "|        Frozen Foods|  856|\n",
            "|  Health and Hygiene|  520|\n",
            "+--------------------+-----+\n",
            "\n"
          ]
        }
      ]
    },
    {
      "cell_type": "code",
      "source": [
        "df2.groupBy(\"Item_Type\").agg(sum('Item_MRP')).show()"
      ],
      "metadata": {
        "colab": {
          "base_uri": "https://localhost:8080/"
        },
        "id": "aYwM5EmyEZSA",
        "outputId": "d1e5e34c-4ff3-4eef-ceb0-817a92cb7beb"
      },
      "execution_count": null,
      "outputs": [
        {
          "output_type": "stream",
          "name": "stdout",
          "text": [
            "+--------------------+------------------+\n",
            "|           Item_Type|     sum(Item_MRP)|\n",
            "+--------------------+------------------+\n",
            "|       Starchy Foods|21880.027399999995|\n",
            "|        Baking Goods| 81894.73640000001|\n",
            "|              Breads| 35379.11979999999|\n",
            "|Fruits and Vegeta...|178124.08099999998|\n",
            "|                Meat|59449.863799999956|\n",
            "|         Hard Drinks|29334.676599999995|\n",
            "|         Soft Drinks|58514.164999999964|\n",
            "|           Household|135976.52539999998|\n",
            "|           Breakfast|        15596.6966|\n",
            "|               Dairy|101276.45959999996|\n",
            "|         Snack Foods|175433.92040000003|\n",
            "|              Others|22451.891600000006|\n",
            "|             Seafood| 9077.870000000003|\n",
            "|              Canned|  90706.7269999999|\n",
            "|        Frozen Foods|118558.88140000001|\n",
            "|  Health and Hygiene|        68025.8388|\n",
            "+--------------------+------------------+\n",
            "\n"
          ]
        }
      ]
    },
    {
      "cell_type": "code",
      "source": [
        "from pyspark.sql import SparkSession"
      ],
      "metadata": {
        "id": "mz7DlzsoTlXX"
      },
      "execution_count": null,
      "outputs": []
    },
    {
      "cell_type": "code",
      "source": [
        "spark = SparkSession.builder.appName(\"ML Practice\").getOrCreate()"
      ],
      "metadata": {
        "id": "s72KucYET2r0"
      },
      "execution_count": null,
      "outputs": []
    },
    {
      "cell_type": "code",
      "source": [
        "spark"
      ],
      "metadata": {
        "colab": {
          "base_uri": "https://localhost:8080/",
          "height": 219
        },
        "id": "0TMUF73jUOJ3",
        "outputId": "73e51a00-dc68-400f-d881-552ad0c49e32"
      },
      "execution_count": null,
      "outputs": [
        {
          "output_type": "execute_result",
          "data": {
            "text/plain": [
              "<pyspark.sql.session.SparkSession at 0x791c41647fd0>"
            ],
            "text/html": [
              "\n",
              "            <div>\n",
              "                <p><b>SparkSession - in-memory</b></p>\n",
              "                \n",
              "        <div>\n",
              "            <p><b>SparkContext</b></p>\n",
              "\n",
              "            <p><a href=\"http://5a3bee1f303a:4040\">Spark UI</a></p>\n",
              "\n",
              "            <dl>\n",
              "              <dt>Version</dt>\n",
              "                <dd><code>v3.5.1</code></dd>\n",
              "              <dt>Master</dt>\n",
              "                <dd><code>local[*]</code></dd>\n",
              "              <dt>AppName</dt>\n",
              "                <dd><code>29/07/25</code></dd>\n",
              "            </dl>\n",
              "        </div>\n",
              "        \n",
              "            </div>\n",
              "        "
            ]
          },
          "metadata": {},
          "execution_count": 78
        }
      ]
    },
    {
      "cell_type": "code",
      "source": [
        "from re import T\n",
        "df_ml = spark.read.csv(\"/content/Admission_Predict.csv\",header=True,inferSchema=True)  # inferSchema : use to remain all the column same data type not change"
      ],
      "metadata": {
        "id": "8c2VVaEiUP4B"
      },
      "execution_count": null,
      "outputs": []
    },
    {
      "cell_type": "code",
      "source": [
        "df_ml.show()"
      ],
      "metadata": {
        "colab": {
          "base_uri": "https://localhost:8080/"
        },
        "id": "IN0DRIMFUb2t",
        "outputId": "5988114c-2b33-4fea-d2dc-790d616935ab"
      },
      "execution_count": null,
      "outputs": [
        {
          "output_type": "stream",
          "name": "stdout",
          "text": [
            "+----------+---------+-----------+-----------------+---+----+----+--------+----------------+\n",
            "|Serial No.|GRE Score|TOEFL Score|University Rating|SOP|LOR |CGPA|Research|Chance of Admit |\n",
            "+----------+---------+-----------+-----------------+---+----+----+--------+----------------+\n",
            "|         1|      337|        118|                4|4.5| 4.5|9.65|       1|            0.92|\n",
            "|         2|      324|        107|                4|4.0| 4.5|8.87|       1|            0.76|\n",
            "|         3|      316|        104|                3|3.0| 3.5| 8.0|       1|            0.72|\n",
            "|         4|      322|        110|                3|3.5| 2.5|8.67|       1|             0.8|\n",
            "|         5|      314|        103|                2|2.0| 3.0|8.21|       0|            0.65|\n",
            "|         6|      330|        115|                5|4.5| 3.0|9.34|       1|             0.9|\n",
            "|         7|      321|        109|                3|3.0| 4.0| 8.2|       1|            0.75|\n",
            "|         8|      308|        101|                2|3.0| 4.0| 7.9|       0|            0.68|\n",
            "|         9|      302|        102|                1|2.0| 1.5| 8.0|       0|             0.5|\n",
            "|        10|      323|        108|                3|3.5| 3.0| 8.6|       0|            0.45|\n",
            "|        11|      325|        106|                3|3.5| 4.0| 8.4|       1|            0.52|\n",
            "|        12|      327|        111|                4|4.0| 4.5| 9.0|       1|            0.84|\n",
            "|        13|      328|        112|                4|4.0| 4.5| 9.1|       1|            0.78|\n",
            "|        14|      307|        109|                3|4.0| 3.0| 8.0|       1|            0.62|\n",
            "|        15|      311|        104|                3|3.5| 2.0| 8.2|       1|            0.61|\n",
            "|        16|      314|        105|                3|3.5| 2.5| 8.3|       0|            0.54|\n",
            "|        17|      317|        107|                3|4.0| 3.0| 8.7|       0|            0.66|\n",
            "|        18|      319|        106|                3|4.0| 3.0| 8.0|       1|            0.65|\n",
            "|        19|      318|        110|                3|4.0| 3.0| 8.8|       0|            0.63|\n",
            "|        20|      303|        102|                3|3.5| 3.0| 8.5|       0|            0.62|\n",
            "+----------+---------+-----------+-----------------+---+----+----+--------+----------------+\n",
            "only showing top 20 rows\n",
            "\n"
          ]
        }
      ]
    },
    {
      "cell_type": "code",
      "source": [
        "from pyspark.ml.feature import VectorAssembler"
      ],
      "metadata": {
        "id": "LKrsTBHHUeHw"
      },
      "execution_count": null,
      "outputs": []
    },
    {
      "cell_type": "code",
      "source": [
        "df_ml.printSchema()"
      ],
      "metadata": {
        "colab": {
          "base_uri": "https://localhost:8080/"
        },
        "id": "Q3NHoB75VMV7",
        "outputId": "cdb97e5f-6d49-4745-a7a6-6da21eb0557f"
      },
      "execution_count": null,
      "outputs": [
        {
          "output_type": "stream",
          "name": "stdout",
          "text": [
            "root\n",
            " |-- Serial No.: integer (nullable = true)\n",
            " |-- GRE Score: integer (nullable = true)\n",
            " |-- TOEFL Score: integer (nullable = true)\n",
            " |-- University Rating: integer (nullable = true)\n",
            " |-- SOP: double (nullable = true)\n",
            " |-- LOR : double (nullable = true)\n",
            " |-- CGPA: double (nullable = true)\n",
            " |-- Research: integer (nullable = true)\n",
            " |-- Chance of Admit : double (nullable = true)\n",
            "\n"
          ]
        }
      ]
    },
    {
      "cell_type": "code",
      "source": [
        "vector_assembler = VectorAssembler(\n",
        "    inputCols=['GRE Score','University Rating','CGPA'],\n",
        "    outputCol='Independent feature',\n",
        "    handleInvalid='skip'\n",
        ")"
      ],
      "metadata": {
        "id": "FgmKzIxEUpT5"
      },
      "execution_count": null,
      "outputs": []
    },
    {
      "cell_type": "code",
      "source": [
        "output = vector_assembler.transform(df_ml)"
      ],
      "metadata": {
        "id": "x8LbHhDFVhiL"
      },
      "execution_count": null,
      "outputs": []
    },
    {
      "cell_type": "code",
      "source": [
        "output.show()"
      ],
      "metadata": {
        "colab": {
          "base_uri": "https://localhost:8080/"
        },
        "id": "M3qvEPDGVnRq",
        "outputId": "a917b7ec-c46a-4826-d813-987f308b5ca8"
      },
      "execution_count": null,
      "outputs": [
        {
          "output_type": "stream",
          "name": "stdout",
          "text": [
            "+----------+---------+-----------+-----------------+---+----+----+--------+----------------+-------------------+\n",
            "|Serial No.|GRE Score|TOEFL Score|University Rating|SOP|LOR |CGPA|Research|Chance of Admit |Independent feature|\n",
            "+----------+---------+-----------+-----------------+---+----+----+--------+----------------+-------------------+\n",
            "|         1|      337|        118|                4|4.5| 4.5|9.65|       1|            0.92|   [337.0,4.0,9.65]|\n",
            "|         2|      324|        107|                4|4.0| 4.5|8.87|       1|            0.76|   [324.0,4.0,8.87]|\n",
            "|         3|      316|        104|                3|3.0| 3.5| 8.0|       1|            0.72|    [316.0,3.0,8.0]|\n",
            "|         4|      322|        110|                3|3.5| 2.5|8.67|       1|             0.8|   [322.0,3.0,8.67]|\n",
            "|         5|      314|        103|                2|2.0| 3.0|8.21|       0|            0.65|   [314.0,2.0,8.21]|\n",
            "|         6|      330|        115|                5|4.5| 3.0|9.34|       1|             0.9|   [330.0,5.0,9.34]|\n",
            "|         7|      321|        109|                3|3.0| 4.0| 8.2|       1|            0.75|    [321.0,3.0,8.2]|\n",
            "|         8|      308|        101|                2|3.0| 4.0| 7.9|       0|            0.68|    [308.0,2.0,7.9]|\n",
            "|         9|      302|        102|                1|2.0| 1.5| 8.0|       0|             0.5|    [302.0,1.0,8.0]|\n",
            "|        10|      323|        108|                3|3.5| 3.0| 8.6|       0|            0.45|    [323.0,3.0,8.6]|\n",
            "|        11|      325|        106|                3|3.5| 4.0| 8.4|       1|            0.52|    [325.0,3.0,8.4]|\n",
            "|        12|      327|        111|                4|4.0| 4.5| 9.0|       1|            0.84|    [327.0,4.0,9.0]|\n",
            "|        13|      328|        112|                4|4.0| 4.5| 9.1|       1|            0.78|    [328.0,4.0,9.1]|\n",
            "|        14|      307|        109|                3|4.0| 3.0| 8.0|       1|            0.62|    [307.0,3.0,8.0]|\n",
            "|        15|      311|        104|                3|3.5| 2.0| 8.2|       1|            0.61|    [311.0,3.0,8.2]|\n",
            "|        16|      314|        105|                3|3.5| 2.5| 8.3|       0|            0.54|    [314.0,3.0,8.3]|\n",
            "|        17|      317|        107|                3|4.0| 3.0| 8.7|       0|            0.66|    [317.0,3.0,8.7]|\n",
            "|        18|      319|        106|                3|4.0| 3.0| 8.0|       1|            0.65|    [319.0,3.0,8.0]|\n",
            "|        19|      318|        110|                3|4.0| 3.0| 8.8|       0|            0.63|    [318.0,3.0,8.8]|\n",
            "|        20|      303|        102|                3|3.5| 3.0| 8.5|       0|            0.62|    [303.0,3.0,8.5]|\n",
            "+----------+---------+-----------+-----------------+---+----+----+--------+----------------+-------------------+\n",
            "only showing top 20 rows\n",
            "\n"
          ]
        }
      ]
    },
    {
      "cell_type": "code",
      "source": [
        "output.columns"
      ],
      "metadata": {
        "colab": {
          "base_uri": "https://localhost:8080/"
        },
        "id": "2eHlumLaWyaC",
        "outputId": "bba2068a-bc17-4895-cc43-5e832e91f9d1"
      },
      "execution_count": null,
      "outputs": [
        {
          "output_type": "execute_result",
          "data": {
            "text/plain": [
              "['Serial No.',\n",
              " 'GRE Score',\n",
              " 'TOEFL Score',\n",
              " 'University Rating',\n",
              " 'SOP',\n",
              " 'LOR ',\n",
              " 'CGPA',\n",
              " 'Research',\n",
              " 'Chance of Admit ',\n",
              " 'Independent feature']"
            ]
          },
          "metadata": {},
          "execution_count": 94
        }
      ]
    },
    {
      "cell_type": "code",
      "source": [
        "final_data = output.select('Independent feature','Chance of Admit ')"
      ],
      "metadata": {
        "id": "zNZKSQX2W3By"
      },
      "execution_count": null,
      "outputs": []
    },
    {
      "cell_type": "code",
      "source": [
        "final_data.show()"
      ],
      "metadata": {
        "colab": {
          "base_uri": "https://localhost:8080/"
        },
        "id": "XGRDdVBZW_2a",
        "outputId": "16b6cb24-0735-454c-9b81-0244189b6eb0"
      },
      "execution_count": null,
      "outputs": [
        {
          "output_type": "stream",
          "name": "stdout",
          "text": [
            "+-------------------+----------------+\n",
            "|Independent feature|Chance of Admit |\n",
            "+-------------------+----------------+\n",
            "|   [337.0,4.0,9.65]|            0.92|\n",
            "|   [324.0,4.0,8.87]|            0.76|\n",
            "|    [316.0,3.0,8.0]|            0.72|\n",
            "|   [322.0,3.0,8.67]|             0.8|\n",
            "|   [314.0,2.0,8.21]|            0.65|\n",
            "|   [330.0,5.0,9.34]|             0.9|\n",
            "|    [321.0,3.0,8.2]|            0.75|\n",
            "|    [308.0,2.0,7.9]|            0.68|\n",
            "|    [302.0,1.0,8.0]|             0.5|\n",
            "|    [323.0,3.0,8.6]|            0.45|\n",
            "|    [325.0,3.0,8.4]|            0.52|\n",
            "|    [327.0,4.0,9.0]|            0.84|\n",
            "|    [328.0,4.0,9.1]|            0.78|\n",
            "|    [307.0,3.0,8.0]|            0.62|\n",
            "|    [311.0,3.0,8.2]|            0.61|\n",
            "|    [314.0,3.0,8.3]|            0.54|\n",
            "|    [317.0,3.0,8.7]|            0.66|\n",
            "|    [319.0,3.0,8.0]|            0.65|\n",
            "|    [318.0,3.0,8.8]|            0.63|\n",
            "|    [303.0,3.0,8.5]|            0.62|\n",
            "+-------------------+----------------+\n",
            "only showing top 20 rows\n",
            "\n"
          ]
        }
      ]
    },
    {
      "cell_type": "code",
      "source": [
        "from pyspark.ml.regression import LinearRegression"
      ],
      "metadata": {
        "id": "Keu0lg9OXmeW"
      },
      "execution_count": null,
      "outputs": []
    },
    {
      "cell_type": "code",
      "source": [
        "train_data,test_data = final_data.randomSplit([0.75,0.25])"
      ],
      "metadata": {
        "id": "E_Ru1vvlX6if"
      },
      "execution_count": null,
      "outputs": []
    },
    {
      "cell_type": "code",
      "source": [
        "reg = LinearRegression(featuresCol='Independent feature',labelCol='Chance of Admit ')"
      ],
      "metadata": {
        "id": "WvQTTkDHYM1e"
      },
      "execution_count": null,
      "outputs": []
    },
    {
      "cell_type": "code",
      "source": [
        "reg = reg.fit(train_data)"
      ],
      "metadata": {
        "id": "iy0yF0qoYRZ9"
      },
      "execution_count": null,
      "outputs": []
    },
    {
      "cell_type": "code",
      "source": [
        "pred_result = reg.evaluate(test_data)"
      ],
      "metadata": {
        "id": "btOEt8gPYlIC"
      },
      "execution_count": null,
      "outputs": []
    },
    {
      "cell_type": "code",
      "source": [
        "pred_result.predictions.show()"
      ],
      "metadata": {
        "colab": {
          "base_uri": "https://localhost:8080/"
        },
        "id": "nmm8YVJdYvcK",
        "outputId": "46acc32a-8376-4d8d-ae14-bc975a175c7c"
      },
      "execution_count": null,
      "outputs": [
        {
          "output_type": "stream",
          "name": "stdout",
          "text": [
            "+-------------------+----------------+-------------------+\n",
            "|Independent feature|Chance of Admit |         prediction|\n",
            "+-------------------+----------------+-------------------+\n",
            "|    [293.0,2.0,7.8]|            0.64| 0.5239787408633845|\n",
            "|   [294.0,1.0,7.36]|            0.46|0.44963419703929186|\n",
            "|   [296.0,2.0,7.28]|            0.47|0.45457414595441614|\n",
            "|   [296.0,2.0,8.03]|            0.61| 0.5666894826157813|\n",
            "|    [297.0,1.0,7.9]|            0.52| 0.5386859446117196|\n",
            "|    [298.0,2.0,7.6]|            0.46| 0.5079624930474285|\n",
            "|   [298.0,3.0,8.54]|            0.69| 0.6598268297045125|\n",
            "|   [299.0,1.0,7.34]|            0.42| 0.4605256300220635|\n",
            "|   [299.0,1.0,7.89]|            0.59| 0.5427435435737316|\n",
            "|   [299.0,2.0,7.88]|            0.68|  0.552595120459753|\n",
            "|    [299.0,2.0,8.4]|            0.64| 0.6303284205449664|\n",
            "|   [299.0,3.0,8.02]|            0.63| 0.5848697646780479|\n",
            "|    [300.0,1.0,6.8]|            0.36|0.38257882268462895|\n",
            "|   [300.0,2.0,7.87]|            0.56| 0.5538764843630166|\n",
            "|   [300.0,3.0,8.26]|            0.62| 0.6235229074684332|\n",
            "|   [301.0,1.0,8.03]|            0.67|  0.569224209868016|\n",
            "|   [301.0,2.0,7.89]|            0.68| 0.5596424617327345|\n",
            "|   [302.0,3.0,8.33]|            0.65|  0.639539475674324|\n",
            "|   [303.0,2.0,8.06]|            0.64| 0.5906077414934741|\n",
            "|   [303.0,3.0,7.66]|            0.36|  0.542159343315586|\n",
            "+-------------------+----------------+-------------------+\n",
            "only showing top 20 rows\n",
            "\n"
          ]
        }
      ]
    },
    {
      "cell_type": "code",
      "source": [
        "pred_result.meanAbsoluteError"
      ],
      "metadata": {
        "colab": {
          "base_uri": "https://localhost:8080/"
        },
        "id": "ltN7J2LZYzGG",
        "outputId": "af2fabb5-a6a1-4ba8-ab4f-7697c9643146"
      },
      "execution_count": null,
      "outputs": [
        {
          "output_type": "execute_result",
          "data": {
            "text/plain": [
              "0.043718164243065114"
            ]
          },
          "metadata": {},
          "execution_count": 110
        }
      ]
    },
    {
      "cell_type": "code",
      "source": [],
      "metadata": {
        "id": "So7zotyGY-bk"
      },
      "execution_count": null,
      "outputs": []
    }
  ]
}